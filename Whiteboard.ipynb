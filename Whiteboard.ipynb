{
 "cells": [
  {
   "cell_type": "code",
   "execution_count": 3,
   "metadata": {},
   "outputs": [
    {
     "name": "stdout",
     "output_type": "stream",
     "text": [
      "1\n",
      "2\n",
      "Fizz\n",
      "4\n",
      "Buzz\n",
      "Fizz\n",
      "7\n",
      "8\n",
      "Fizz\n",
      "Buzz\n",
      "11\n",
      "Fizz\n",
      "13\n",
      "14\n",
      "FizzBuzz\n"
     ]
    }
   ],
   "source": [
    "def fizz_buzz(n):\n",
    "    for i in range(1, n+1):\n",
    "        if i % 3 == 0 and i % 5 == 0:\n",
    "            print('FizzBuzz')\n",
    "        elif i % 3 == 0:\n",
    "            print('Fizz')\n",
    "        elif i % 5 == 0:\n",
    "            print('Buzz')\n",
    "        else:\n",
    "            print(i)\n",
    "            \n",
    "fizz_buzz(15)"
   ]
  },
  {
   "cell_type": "markdown",
   "metadata": {},
   "source": [
    "### Consecutive Indices\n",
    "You are given a list of unique integers (arr), and two integers (a and b). \n",
    "Your task is to find out whether or not a and b appear consecutively in arr, \n",
    "and return a boolean value (True if a and b are consecutive, False otherwise).\n",
    "It is guaranteed that a and b are both present in arr.<br>\n",
    "Example:<br>\n",
    "Input: ([1, 6, 9, -3, 4, -78, 0], -3, 4)<br>\n",
    "Output: True<br>\n",
    "Input: ([3,1,0,19], 19, 0)<br>\n",
    "Output: True <br><br>\n",
    "\"\"\"\n",
    "def isConsecutive(arr, a, b):<br>\n",
    "    pass<br><br><br>\n",
    "\n",
    "\n",
    "print(isConsecutive([3,1,19,0], 19, 0))"
   ]
  },
  {
   "cell_type": "code",
   "execution_count": null,
   "metadata": {},
   "outputs": [],
   "source": [
    "#lucas\n",
    "def isConsecutive(arr, a, b):\n",
    "    for i in range(len(arr)-1):\n",
    "        if arr[i] == a and arr[i + 1] == b or arr[i-1] == b:\n",
    "            return True\n",
    "    return False\n",
    "print(isConsecutive([3,1,0,19], 19, 0))\n",
    "print(isConsecutive([1, 6, 9, -3, 4, -78, 0], -3, 4))"
   ]
  },
  {
   "cell_type": "code",
   "execution_count": null,
   "metadata": {},
   "outputs": [],
   "source": [
    "#student\n",
    "def isConsecutive(arr, a, b):\n",
    "    for i in range(len(arr)-1):\n",
    "        if arr[i] == a and arr[i + 1] == b:\n",
    "            return True\n",
    "        elif arr[i] == b and arr[i + 1] == a:\n",
    "            return True\n",
    "    return False\n",
    "    \n",
    "print(isConsecutive([3,1,0,19], 19, 0))\n",
    "\n",
    "# print(isConsecutive([1, 6, 9, -3, 4, -78, 0], -3, 4))"
   ]
  },
  {
   "cell_type": "code",
   "execution_count": null,
   "metadata": {},
   "outputs": [],
   "source": [
    "#Hamilton\n",
    "def isConsecutive(arr, a, b):\n",
    "    if arr.index(b) == arr.index(a) + 1 or arr.index(a) == arr.index(b) + 1:\n",
    "        return True\n",
    "    else:\n",
    "        return False\n",
    "print(isConsecutive([3,1, -6, 22], 22, -6))"
   ]
  },
  {
   "cell_type": "markdown",
   "metadata": {},
   "source": [
    "# Calculator"
   ]
  },
  {
   "cell_type": "code",
   "execution_count": null,
   "metadata": {},
   "outputs": [],
   "source": [
    "from IPython.display import clear_output\n",
    "\n",
    "def calculation(decision, num_1, num_2):\n",
    "    if decision == 'add':\n",
    "        print(num_1 + num_2)\n",
    "    elif decision == 'subtract':\n",
    "        if num_1 > num_2:\n",
    "            print(num_1 - num_2)\n",
    "        else:\n",
    "            print(num_2 - num_1)\n",
    "    elif decision == 'multiply':\n",
    "        print(num_1 * num_2)\n",
    "    elif decision == 'divide':\n",
    "        print(num_1 / num_2)\n",
    "\n",
    "def calculate():\n",
    "    while True:\n",
    "        x = float(input('What is the first number? '))\n",
    "        # print(f'Your number is {type(x)}')\n",
    "        y = float(input('What is the second number? '))\n",
    "        decision = input('Would you like to add, subtract, multiply, or divide? ').lower()\n",
    "        \n",
    "        calculation(decision, x, y)\n",
    "        \n",
    "        # flag\n",
    "        done = False\n",
    "        while not done:\n",
    "            \n",
    "            confirm = input('Would you like to continue? Y/n ').lower()\n",
    "            clear_output()\n",
    "            \n",
    "            if confirm == 'n':\n",
    "                # done = True\n",
    "                return # no matter where you put it inside of a function, it will always end the function\n",
    "            elif confirm == 'y':\n",
    "                # break\n",
    "                done = True\n",
    "            else:\n",
    "                input('That was an invalid option. Please try again. Press any key to continue ')\n",
    "            \n",
    "    \n",
    "calculate()"
   ]
  },
  {
   "cell_type": "markdown",
   "metadata": {},
   "source": [
    "# xPyramid"
   ]
  },
  {
   "cell_type": "code",
   "execution_count": null,
   "metadata": {},
   "outputs": [],
   "source": [
    "def create_pyramid(n):\n",
    "    for i in range(n):\n",
    "        print(\" \" * (n-i-1) + \"X\" * (2*i+1))\n",
    "        \n",
    "create_pyramid(5)"
   ]
  },
  {
   "cell_type": "code",
   "execution_count": null,
   "metadata": {},
   "outputs": [],
   "source": [
    "def create_pyramid():\n",
    "    levels = int(input('Enter the number of levels you want your pyramix to be '))\n",
    "    for level in range(levels):\n",
    "        for _ in range(levels-level-1):\n",
    "            print(end=' ')\n",
    "        for _ in range(level+1):\n",
    "            print('X', end=' ')\n",
    "        print(' ')\n",
    "        \n",
    "create_pyramid()"
   ]
  },
  {
   "cell_type": "code",
   "execution_count": null,
   "metadata": {},
   "outputs": [],
   "source": [
    "def create_pyramid(n):\n",
    "    n+=1\n",
    "    for i in range(1, n):\n",
    "        print(' ' * (n-i) + 'X' * i + 'X' *(i-1))\n",
    "        \n",
    "create_pyramid(16)"
   ]
  }
 ],
 "metadata": {
  "kernelspec": {
   "display_name": "Python 3",
   "language": "python",
   "name": "python3"
  },
  "language_info": {
   "codemirror_mode": {
    "name": "ipython",
    "version": 3
   },
   "file_extension": ".py",
   "mimetype": "text/x-python",
   "name": "python",
   "nbconvert_exporter": "python",
   "pygments_lexer": "ipython3",
   "version": "3.8.5"
  }
 },
 "nbformat": 4,
 "nbformat_minor": 4
}
